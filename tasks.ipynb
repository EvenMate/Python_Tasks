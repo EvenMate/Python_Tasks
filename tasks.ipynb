{
 "cells": [
  {
   "cell_type": "code",
   "execution_count": 33,
   "metadata": {},
   "outputs": [],
   "source": [
    "#Two Sum\n",
    "from ast import List\n",
    "\n",
    "\n",
    "#def twoSum(nums: List[int], target: int) -> List[int]:\n",
    " #   pass\n",
    "\n",
    "target = 6\n",
    "nums = [3,2,4]\n",
    "res = []\n",
    "\n"
   ]
  },
  {
   "cell_type": "code",
   "execution_count": 65,
   "metadata": {},
   "outputs": [],
   "source": [
    "\n",
    "target = 6\n",
    "nums = [3,2,3]\n",
    "res = []\n",
    "def twoSum(nums, target):\n",
    "    for i in nums:\n",
    "        for j in nums[1:]:\n",
    "            if len(nums)==2:\n",
    "                if nums[0]+nums[1]==target:\n",
    "                    res.append(0)\n",
    "                    res.append(1)\n",
    "                    return res\n",
    "            if i+j==target:\n",
    "                res.append(nums.index(i))\n",
    "                res.append(nums.index(j))\n",
    "                return res"
   ]
  },
  {
   "cell_type": "code",
   "execution_count": 66,
   "metadata": {},
   "outputs": [
    {
     "name": "stdout",
     "output_type": "stream",
     "text": [
      "[0, 0]\n"
     ]
    }
   ],
   "source": [
    "print(twoSum(nums,target))"
   ]
  },
  {
   "cell_type": "code",
   "execution_count": 71,
   "metadata": {},
   "outputs": [
    {
     "name": "stdout",
     "output_type": "stream",
     "text": [
      "[3, 2, 3] [2, 3]\n",
      "[0, 0]\n",
      "[3, 2, 3] [2, 3]\n",
      "[0, 0, 0, 0]\n"
     ]
    }
   ],
   "source": [
    "target = 6\n",
    "nums = [3,2,3]\n",
    "nums1 = nums[1:]\n",
    "res = []\n",
    "for i in nums:\n",
    "    for j in nums1:\n",
    "        if i+j==target:\n",
    "            print(i, 'итерация')\n",
    "            print(nums, nums[1:])\n",
    "            res.append(nums.index(i))\n",
    "            res.append(nums.index(j))\n",
    "            print(res)"
   ]
  },
  {
   "cell_type": "code",
   "execution_count": null,
   "metadata": {},
   "outputs": [
    {
     "data": {
      "text/plain": [
       "15"
      ]
     },
     "execution_count": 10,
     "metadata": {},
     "output_type": "execute_result"
    }
   ],
   "source": [
    "nums[-1]"
   ]
  },
  {
   "cell_type": "code",
   "execution_count": null,
   "metadata": {},
   "outputs": [],
   "source": []
  }
 ],
 "metadata": {
  "kernelspec": {
   "display_name": "Python 3",
   "language": "python",
   "name": "python3"
  },
  "language_info": {
   "codemirror_mode": {
    "name": "ipython",
    "version": 3
   },
   "file_extension": ".py",
   "mimetype": "text/x-python",
   "name": "python",
   "nbconvert_exporter": "python",
   "pygments_lexer": "ipython3",
   "version": "3.11.7"
  }
 },
 "nbformat": 4,
 "nbformat_minor": 2
}
